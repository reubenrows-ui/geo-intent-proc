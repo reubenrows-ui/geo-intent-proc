{
 "cells": [
  {
   "cell_type": "code",
   "execution_count": 1,
   "id": "97c06010",
   "metadata": {},
   "outputs": [],
   "source": [
    "import sys\n",
    "import os\n",
    "\n",
    "# Add the project root directory to the Python path\n",
    "project_root = os.path.abspath(os.path.join(os.getcwd(), '../../..'))\n",
    "if project_root not in sys.path:\n",
    "    sys.path.append(project_root)"
   ]
  },
  {
   "cell_type": "code",
   "execution_count": 5,
   "id": "6144601c",
   "metadata": {},
   "outputs": [],
   "source": [
    "from deployment.bigquery_setup_scripts.utils.bigquery_operations import write_table_from_query, create_bigquery_dataset, run_query"
   ]
  },
  {
   "cell_type": "code",
   "execution_count": 3,
   "id": "ffb804ee",
   "metadata": {},
   "outputs": [],
   "source": [
    "project_id = 'kaggle-hackathon-project'\n",
    "project_number = '511506474477'\n",
    "dataset_id = 'geo_intent'\n",
    "location = 'US'"
   ]
  },
  {
   "cell_type": "markdown",
   "id": "27a6ca06",
   "metadata": {},
   "source": [
    "#### 1. Create the dataset"
   ]
  },
  {
   "cell_type": "code",
   "execution_count": 4,
   "id": "70d6b8cb",
   "metadata": {},
   "outputs": [
    {
     "name": "stderr",
     "output_type": "stream",
     "text": [
      "INFO:root:Connecting to BigQuery client for project 'kaggle-hackathon-project'...\n",
      "INFO:root:Attempting to create dataset 'geo_intent' in location 'US'...\n",
      "DEBUG:google.cloud.bigquery.opentelemetry_tracing:This service is instrumented using OpenTelemetry. OpenTelemetry or one of its components could not be imported; please add compatible versions of opentelemetry-api and opentelemetry-instrumentation packages in order to get BigQuery Tracing data.\n",
      "INFO:root:Successfully created dataset 'geo_intent'.\n"
     ]
    }
   ],
   "source": [
    "create_bigquery_dataset(project_id=project_id, dataset_id=dataset_id, location=location)"
   ]
  },
  {
   "cell_type": "markdown",
   "id": "472b883d",
   "metadata": {},
   "source": [
    "#### 2. Create remote connection to Vertex AI"
   ]
  },
  {
   "cell_type": "code",
   "execution_count": 5,
   "id": "97080bec",
   "metadata": {},
   "outputs": [
    {
     "name": "stdout",
     "output_type": "stream",
     "text": [
      "Connection 511506474477.us.geo_intent successfully created\n"
     ]
    }
   ],
   "source": [
    "!bq mk --connection --location={location} --project_id={project_id} \\\n",
    "    --connection_type=CLOUD_RESOURCE {dataset_id}"
   ]
  },
  {
   "cell_type": "markdown",
   "id": "732a60b2",
   "metadata": {},
   "source": [
    "Add roles/aiplatform.user permission to the default BQ service account"
   ]
  },
  {
   "cell_type": "code",
   "execution_count": null,
   "id": "a0ee974b",
   "metadata": {},
   "outputs": [],
   "source": [
    "!bq show --connection --project_id=kaggle-hackathon-project --location=US --format=json geo_intent"
   ]
  },
  {
   "cell_type": "code",
   "execution_count": 8,
   "id": "8e9ed4ed",
   "metadata": {},
   "outputs": [
    {
     "name": "stdout",
     "output_type": "stream",
     "text": [
      "bindings:\n",
      "- members:\n",
      "  - serviceAccount:bqcx-511506474477-plee@gcp-sa-bigquery-condel.iam.gserviceaccount.com\n",
      "  - serviceAccount:geo-intent-app@kaggle-hackathon-project.iam.gserviceaccount.com\n",
      "  - serviceAccount:service-511506474477@gcp-sa-aiplatform.iam.gserviceaccount.com\n",
      "  role: roles/aiplatform.user\n",
      "- members:\n",
      "  - serviceAccount:service-511506474477@gcp-sa-logging.iam.gserviceaccount.com\n",
      "  role: roles/bigquery.dataEditor\n",
      "- members:\n",
      "  - serviceAccount:511506474477-compute@developer.gserviceaccount.com\n",
      "  - serviceAccount:511506474477@cloudbuild.gserviceaccount.com\n",
      "  role: roles/cloudbuild.builds.builder\n",
      "- members:\n",
      "  - serviceAccount:service-511506474477@gcp-sa-cloudbuild.iam.gserviceaccount.com\n",
      "  role: roles/cloudbuild.serviceAgent\n",
      "- members:\n",
      "  - serviceAccount:geo-intent-app@kaggle-hackathon-project.iam.gserviceaccount.com\n",
      "  - serviceAccount:service-511506474477@gcp-sa-aiplatform.iam.gserviceaccount.com\n",
      "  role: roles/cloudtrace.agent\n",
      "- members:\n",
      "  - serviceAccount:service-511506474477@containerregistry.iam.gserviceaccount.com\n",
      "  role: roles/containerregistry.ServiceAgent\n",
      "- members:\n",
      "  - serviceAccount:geo-intent-app@kaggle-hackathon-project.iam.gserviceaccount.com\n",
      "  - serviceAccount:service-511506474477@gcp-sa-aiplatform.iam.gserviceaccount.com\n",
      "  role: roles/discoveryengine.editor\n",
      "- members:\n",
      "  - serviceAccount:511506474477-compute@developer.gserviceaccount.com\n",
      "  role: roles/editor\n",
      "- members:\n",
      "  - serviceAccount:geo-intent-app@kaggle-hackathon-project.iam.gserviceaccount.com\n",
      "  - serviceAccount:service-511506474477@gcp-sa-aiplatform.iam.gserviceaccount.com\n",
      "  role: roles/logging.logWriter\n",
      "- members:\n",
      "  - serviceAccount:service-511506474477@gcp-sa-logging.iam.gserviceaccount.com\n",
      "  role: roles/logging.serviceAgent\n",
      "- members:\n",
      "  - user:chefreuby@gmail.com\n",
      "  role: roles/owner\n",
      "- members:\n",
      "  - serviceAccount:service-511506474477@gcp-sa-pubsub.iam.gserviceaccount.com\n",
      "  role: roles/pubsub.serviceAgent\n",
      "- members:\n",
      "  - serviceAccount:service-511506474477@serverless-robot-prod.iam.gserviceaccount.com\n",
      "  role: roles/run.serviceAgent\n",
      "- members:\n",
      "  - serviceAccount:geo-intent-app@kaggle-hackathon-project.iam.gserviceaccount.com\n",
      "  - serviceAccount:service-511506474477@gcp-sa-aiplatform.iam.gserviceaccount.com\n",
      "  role: roles/serviceusage.serviceUsageConsumer\n",
      "- members:\n",
      "  - serviceAccount:geo-intent-app@kaggle-hackathon-project.iam.gserviceaccount.com\n",
      "  - serviceAccount:service-511506474477@gcp-sa-aiplatform.iam.gserviceaccount.com\n",
      "  role: roles/storage.admin\n",
      "etag: BwY_WnDTPng=\n",
      "version: 1\n"
     ]
    },
    {
     "name": "stderr",
     "output_type": "stream",
     "text": [
      "Updated IAM policy for project [kaggle-hackathon-project].\n"
     ]
    }
   ],
   "source": [
    "!gcloud projects add-iam-policy-binding {project_id} \\\n",
    "    --member=serviceAccount:bqcx-511506474477-plee@gcp-sa-bigquery-condel.iam.gserviceaccount.com \\\n",
    "    --role=roles/aiplatform.user"
   ]
  },
  {
   "cell_type": "markdown",
   "id": "c93afc78",
   "metadata": {},
   "source": [
    "#### 3. Try out the connection"
   ]
  },
  {
   "cell_type": "code",
   "execution_count": 11,
   "id": "6712e889",
   "metadata": {},
   "outputs": [
    {
     "name": "stderr",
     "output_type": "stream",
     "text": [
      "INFO:root:Connecting to BigQuery client for project 'bigquery-kaggle-hackathon'...\n",
      "INFO:root:Starting query job...\n",
      "INFO:root:Waiting for job 03bbea9d-b706-4089-b427-1577bfdc72fd to complete...\n",
      "INFO:root:Job 03bbea9d-b706-4089-b427-1577bfdc72fd completed. Fetching results as a DataFrame...\n",
      "C:\\Users\\reube\\AppData\\Local\\Packages\\PythonSoftwareFoundation.Python.3.11_qbz5n2kfra8p0\\LocalCache\\local-packages\\Python311\\site-packages\\google\\cloud\\bigquery\\table.py:1965: UserWarning: BigQuery Storage module not found, fetch data with the REST endpoint instead.\n",
      "  warnings.warn(\n",
      "INFO:root:Query returned 1 rows.\n"
     ]
    },
    {
     "data": {
      "text/html": [
       "<div>\n",
       "<style scoped>\n",
       "    .dataframe tbody tr th:only-of-type {\n",
       "        vertical-align: middle;\n",
       "    }\n",
       "\n",
       "    .dataframe tbody tr th {\n",
       "        vertical-align: top;\n",
       "    }\n",
       "\n",
       "    .dataframe thead th {\n",
       "        text-align: right;\n",
       "    }\n",
       "</style>\n",
       "<table border=\"1\" class=\"dataframe\">\n",
       "  <thead>\n",
       "    <tr style=\"text-align: right;\">\n",
       "      <th></th>\n",
       "      <th>result</th>\n",
       "    </tr>\n",
       "  </thead>\n",
       "  <tbody>\n",
       "    <tr>\n",
       "      <th>0</th>\n",
       "      <td>Austin is a vibrant Texas city known for its l...</td>\n",
       "    </tr>\n",
       "  </tbody>\n",
       "</table>\n",
       "</div>"
      ],
      "text/plain": [
       "                                              result\n",
       "0  Austin is a vibrant Texas city known for its l..."
      ]
     },
     "execution_count": 11,
     "metadata": {},
     "output_type": "execute_result"
    }
   ],
   "source": [
    "test_ai_command = f\"\"\"\n",
    "SELECT\n",
    "  AI.GENERATE(\n",
    "    ('Give a short, one sentence description of Austin'),\n",
    "    connection_id => 'us.{dataset_id}',\n",
    "    endpoint => 'gemini-2.0-flash').result\n",
    "\"\"\"\n",
    "run_query(project_id=project_id, query=test_ai_command)"
   ]
  },
  {
   "cell_type": "code",
   "execution_count": 6,
   "id": "e332702a",
   "metadata": {},
   "outputs": [
    {
     "name": "stderr",
     "output_type": "stream",
     "text": [
      "INFO:root:Connecting to BigQuery client for project 'kaggle-hackathon-project'...\n",
      "INFO:root:Setting job disposition to WRITE_TRUNCATE (overwrite).\n",
      "INFO:root:Starting query job to populate table 'demographic_data'...\n",
      "DEBUG:google.cloud.bigquery.opentelemetry_tracing:This service is instrumented using OpenTelemetry. OpenTelemetry or one of its components could not be imported; please add compatible versions of opentelemetry-api and opentelemetry-instrumentation packages in order to get BigQuery Tracing data.\n",
      "INFO:root:Waiting for job 74993ad2-27e0-49ae-8e32-c9216471560c to complete...\n",
      "INFO:root:Job 74993ad2-27e0-49ae-8e32-c9216471560c completed. Table populated successfully.\n",
      "INFO:root:Table 'demographic_data' now contains 32923 rows.\n"
     ]
    }
   ],
   "source": [
    "demographics_table_creation_query = f\"\"\"\n",
    "SELECT\n",
    "  a.zip_code,\n",
    "  a.city,\n",
    "  a.county,\n",
    "  a.state_name AS state,\n",
    "  a.area_land_meters + a.area_water_meters AS area,\n",
    "  a.internal_point_geom AS point_geom,\n",
    "  b.total_pop,\n",
    "  b.households,\n",
    "  b.median_age,\n",
    "  b.pop_25_64,\n",
    "  b.median_income,\n",
    "  b.income_per_capita,\n",
    "  b.housing_units,\n",
    "  b.occupied_housing_units,\n",
    "  b.owner_occupied_housing_units,\n",
    "  b.million_dollar_housing_units,\n",
    "  b.housing_units_renter_occupied,\n",
    "  b.median_year_structure_built,\n",
    "  b.family_households,\n",
    "  b.median_rent,\n",
    "  b.percent_income_spent_on_rent,\n",
    "  (b.commute_less_10_mins + b.commute_10_14_mins + b.commute_15_19_mins + b.commute_20_24_mins + b.commute_25_29_mins ) AS commute_within_30_min,\n",
    "  b.commute_60_more_mins,\n",
    "  b.commuters_16_over,\n",
    "  b.walked_to_work,\n",
    "  b.worked_at_home,\n",
    "  b.commuters_by_public_transportation,\n",
    "  b.commuters_by_car_truck_van,\n",
    "  b.associates_degree,\n",
    "  b.bachelors_degree,\n",
    "  b.high_school_diploma,\n",
    "  b.masters_degree,\n",
    "  b.graduate_professional_degree,\n",
    "  b.employed_pop,\n",
    "  b.unemployed_pop,\n",
    "  b.workers_16_and_over,\n",
    "  b.in_school,\n",
    "  b.in_undergrad_college\n",
    "FROM\n",
    "  `bigquery-public-data.geo_us_boundaries.zip_codes` AS a\n",
    "JOIN\n",
    "  `bigquery-public-data.census_bureau_acs.zip_codes_2018_5yr` AS b\n",
    "ON\n",
    "  a.zip_code = b.geo_id;\"\"\"\n",
    "\n",
    "write_table_from_query(project_id=project_id, dataset_id=dataset_id, table_id='demographic_data', query=demographics_table_creation_query, overwrite=True)"
   ]
  },
  {
   "cell_type": "code",
   "execution_count": 7,
   "id": "80aed1c8",
   "metadata": {},
   "outputs": [
    {
     "name": "stderr",
     "output_type": "stream",
     "text": [
      "INFO:root:Connecting to BigQuery client for project 'kaggle-hackathon-project'...\n"
     ]
    },
    {
     "name": "stdout",
     "output_type": "stream",
     "text": [
      "Setting all column descriptions in a single statement...\n"
     ]
    },
    {
     "name": "stderr",
     "output_type": "stream",
     "text": [
      "INFO:root:Starting query job...\n",
      "INFO:root:Waiting for job 9a149ed2-13af-49f9-b9d8-9f9217af4467 to complete...\n",
      "INFO:root:Job 9a149ed2-13af-49f9-b9d8-9f9217af4467 completed. Fetching results as a DataFrame...\n",
      "INFO:root:Query returned 0 rows.\n"
     ]
    },
    {
     "name": "stdout",
     "output_type": "stream",
     "text": [
      "All column descriptions have been updated.\n"
     ]
    }
   ],
   "source": [
    "column_descriptions = {\n",
    "    \"zip_code\": \"The 5-digit ZIP code tabulation area (ZCTA) identifier.\",\n",
    "    \"city\": \"The default city name associated with the ZIP code.\",\n",
    "    \"county\": \"The name of the county containing the ZIP code.\",\n",
    "    \"state\": \"The full name of the state.\",\n",
    "    \"area\": \"Total area of the ZIP code in square meters, including both land and water.\",\n",
    "    \"point_geom\": \"A GEOGRAPHY point representing the internal center of the ZIP code's boundaries.\",\n",
    "    \"total_pop\": \"Total population within the ZIP code. Source: ACS 2018 5-year estimates.\",\n",
    "    \"households\": \"Total number of households within the ZIP code. Source: ACS 2018 5-year estimates.\",\n",
    "    \"median_age\": \"The median age of the population. Source: ACS 2018 5-year estimates.\",\n",
    "    \"pop_25_64\": \"Population aged 25 to 64 years. Source: ACS 2018 5-year estimates.\",\n",
    "    \"median_income\": \"Median household income in the past 12 months (in 2018 inflation-adjusted dollars). Source: ACS 2018 5-year estimates.\",\n",
    "    \"income_per_capita\": \"Per capita income in the past 12 months (in 2018 inflation-adjusted dollars). Source: ACS 2018 5-year estimates.\",\n",
    "    \"housing_units\": \"Total number of housing units. Source: ACS 2018 5-year estimates.\",\n",
    "    \"occupied_housing_units\": \"Number of housing units that are occupied. Source: ACS 2018 5-year estimates.\",\n",
    "    \"owner_occupied_housing_units\": \"Number of occupied housing units that are owner-occupied. Source: ACS 2018 5-year estimates.\",\n",
    "    \"million_dollar_housing_units\": \"Owner-occupied housing units valued at $1,000,000 or more. Source: ACS 2018 5-year estimates.\",\n",
    "    \"housing_units_renter_occupied\": \"Number of occupied housing units that are renter-occupied. Source: ACS 2018 5-year estimates.\",\n",
    "    \"median_year_structure_built\": \"The median year in which housing structures were built. Source: ACS 2018 5-year estimates.\",\n",
    "    \"family_households\": \"Total number of family households. Source: ACS 2018 5-year estimates.\",\n",
    "    \"median_rent\": \"Median gross rent for renter-occupied units. Source: ACS 2018 5-year estimates.\",\n",
    "    \"percent_income_spent_on_rent\": \"Median percentage of household income spent on rent. Source: ACS 2018 5-year estimates.\",\n",
    "    \"commute_within_30_min\": \"Total commuters with a travel time to work of less than 30 minutes. Source: ACS 2018 5-year estimates.\",\n",
    "    \"commute_60_more_mins\": \"Commuters with a travel time to work of 60 minutes or more. Source: ACS 2018 5-year estimates.\",\n",
    "    \"commuters_16_over\": \"Total number of commuters aged 16 and over. Source: ACS 2018 5-year estimates.\",\n",
    "    \"walked_to_work\": \"Number of commuters who walked to work. Source: ACS 2018 5-year estimates.\",\n",
    "    \"worked_at_home\": \"Number of people who worked from home. Source: ACS 2018 5-year estimates.\",\n",
    "    \"commuters_by_public_transportation\": \"Number of commuters using public transportation. Source: ACS 2018 5-year estimates.\",\n",
    "    \"commuters_by_car_truck_van\": \"Number of commuters using a car, truck, or van. Source: ACS 2018 5-year estimates.\",\n",
    "    \"associates_degree\": \"Population with an Associate's degree as their highest level of education. Source: ACS 2018 5-year estimates.\",\n",
    "    \"bachelors_degree\": \"Population with a Bachelor's degree as their highest level of education. Source: ACS 2018 5-year estimates.\",\n",
    "    \"high_school_diploma\": \"Population with a high school diploma or equivalent as their highest level of education. Source: ACS 2018 5-year estimates.\",\n",
    "    \"masters_degree\": \"Population with a Master's degree as their highest level of education. Source: ACS 2018 5-year estimates.\",\n",
    "    \"graduate_professional_degree\": \"Population with a graduate or professional degree. Source: ACS 2018 5-year estimates.\",\n",
    "    \"employed_pop\": \"Number of the population aged 16 and over that is employed. Source: ACS 2018 5-year estimates.\",\n",
    "    \"unemployed_pop\": \"Number of the population aged 16 and over that is unemployed. Source: ACS 2018 5-year estimates.\",\n",
    "    \"workers_16_and_over\": \"Total workers aged 16 and over. Source: ACS 2018 5-year estimates.\",\n",
    "    \"in_school\": \"Population 3 years and over enrolled in school. Source: ACS 2018 5-year estimates.\",\n",
    "    \"in_undergrad_college\": \"Population 15 years and over enrolled in undergraduate college. Source: ACS 2018 5-year estimates.\"\n",
    "}\n",
    "\n",
    "# Build the list of ALTER COLUMN clauses\n",
    "alter_clauses = []\n",
    "for column, description in column_descriptions.items():\n",
    "    # Escape double quotes in description\n",
    "    escaped_description = description.replace('\"', '\\\\\"')\n",
    "    alter_clauses.append(f'ALTER COLUMN {column} SET OPTIONS(description=\"{escaped_description}\")')\n",
    "\n",
    "# Join the clauses with a comma\n",
    "joined_clauses = \",\\n\".join(alter_clauses)\n",
    "\n",
    "# Construct the final single ALTER TABLE query\n",
    "alter_query = f\"\"\"\n",
    "ALTER TABLE `{project_id}.{dataset_id}.demographic_data`\n",
    "{joined_clauses}\n",
    "\"\"\"\n",
    "\n",
    "# Run the single query\n",
    "print(\"Setting all column descriptions in a single statement...\")\n",
    "run_query(project_id=project_id, query=alter_query)\n",
    "print(\"All column descriptions have been updated.\")\n"
   ]
  },
  {
   "cell_type": "code",
   "execution_count": 21,
   "id": "3c57646e",
   "metadata": {},
   "outputs": [
    {
     "name": "stderr",
     "output_type": "stream",
     "text": [
      "INFO:root:Connecting to BigQuery client for project 'bigquery-kaggle-hackathon'...\n",
      "INFO:root:Setting job disposition to WRITE_TRUNCATE (overwrite).\n",
      "INFO:root:Starting query job to populate table 'us_places_category'...\n",
      "INFO:root:Waiting for job 8a543b3a-a2e4-465f-af2d-e2683ed83dcb to complete...\n",
      "INFO:root:Job 8a543b3a-a2e4-465f-af2d-e2683ed83dcb completed. Table populated successfully.\n",
      "INFO:root:Table 'us_places_category' now contains 1996 rows.\n"
     ]
    }
   ],
   "source": [
    "us_places_category=\"\"\"SELECT\n",
    "  a.*,\n",
    "  AI.GENERATE(\n",
    "    ('Generate a description of business that fall in the category: ', category, '. Describe how it affects the business of a cafe if any.'),\n",
    "    connection_id => 'us.geo_intent',\n",
    "    endpoint => 'gemini-2.5-flash').result as category_description,\n",
    "  AI.GENERATE_BOOL(\n",
    "    ('Decide if a place categorized as ', category, ' is a direct competitor to a cafe.'),\n",
    "    connection_id => 'us.geo_intent',\n",
    "    endpoint => 'gemini-2.5-flash').result as competition,\n",
    "  AI.GENERATE_INT(\n",
    "    ('Decide the magnitude of competition between a place categorized as', category, ' and a cafe. Output a single float between 0 and 100, where 0 means no competition and 100 means they are direct competitors selling the same products.'),\n",
    "    connection_id => 'us.geo_intent',\n",
    "    endpoint => 'gemini-2.5-flash').result as competition_magnitude,\n",
    "  AI.GENERATE_BOOL(\n",
    "    ('Decide if a place categorized as ', category, 'represents an opportunity for more sales to a cafe. Output only true or false.'),\n",
    "    connection_id => 'us.geo_intent',\n",
    "    endpoint => 'gemini-2.5-flash').result as opportunity,\n",
    "  AI.GENERATE_INT(\n",
    "    ('Decide the magnitude of competition between a place categorized as', category, ' and a cafe. Output a single float between 0 and 100, where 0 means no opportunity and 100 means maximum opportunity for additional sales.'),\n",
    "    connection_id => 'us.geo_intent',\n",
    "    endpoint => 'gemini-2.5-flash').result as opportunity_magnitude,\n",
    "    \n",
    "FROM (\n",
    "  SELECT\n",
    "    categories.`primary` AS category,\n",
    "    COUNT(DISTINCT id) AS number_of_places\n",
    "  FROM\n",
    "    bigquery-public-data.overture_maps.place\n",
    "  WHERE\n",
    "    addresses.`list`[SAFE_OFFSET(0)].element.country = 'US'\n",
    "  GROUP BY\n",
    "    1\n",
    "  ORDER BY\n",
    "    2 DESC) as a\"\"\"\n",
    "write_table_from_query(project_id=project_id, dataset_id=dataset_id, table_id='us_places_category', query=us_places_category, overwrite=True)"
   ]
  },
  {
   "cell_type": "code",
   "execution_count": 10,
   "id": "a65c2fbc",
   "metadata": {},
   "outputs": [
    {
     "name": "stderr",
     "output_type": "stream",
     "text": [
      "INFO:root:Connecting to BigQuery client for project 'kaggle-hackathon-project'...\n",
      "INFO:root:Setting job disposition to WRITE_TRUNCATE (overwrite).\n",
      "INFO:root:Starting query job to populate table 'us_places'...\n",
      "INFO:root:Waiting for job 60bcef6d-ee23-43f8-b26b-3841ad06a378 to complete...\n",
      "INFO:root:Job 60bcef6d-ee23-43f8-b26b-3841ad06a378 completed. Table populated successfully.\n",
      "INFO:root:Table 'us_places' now contains 13160925 rows.\n"
     ]
    }
   ],
   "source": [
    "us_places_table_creation_query = f\"\"\"\n",
    "SELECT\n",
    "  *\n",
    "FROM (\n",
    "  SELECT\n",
    "    id,\n",
    "    geometry,\n",
    "    names.`primary` AS name,\n",
    "    categories.`primary` AS category,\n",
    "    brand.names.`primary` AS brand,\n",
    "    TO_JSON_STRING(ARRAY(\n",
    "      SELECT\n",
    "        DISTINCT x\n",
    "      FROM\n",
    "        UNNEST(websites.`list`) AS x)) AS website,\n",
    "    TO_JSON_STRING(ARRAY(\n",
    "      SELECT\n",
    "        DISTINCT x\n",
    "      FROM\n",
    "        UNNEST(socials.`list`) AS x)) AS socials,\n",
    "  IF\n",
    "    (ARRAY_LENGTH(addresses.`list`)>0, TO_JSON_STRING(addresses.`list`[SAFE_OFFSET(0)].element), NULL) AS address\n",
    "  FROM\n",
    "    bigquery-public-data.overture_maps.place\n",
    "  WHERE\n",
    "    addresses.`list`[SAFE_OFFSET(0)].element.country = 'US') as a\n",
    "LEFT JOIN\n",
    "  kaggle-hackathon-project.geo_intent.us_places_category as b\n",
    "  USING(category)\"\"\"\n",
    "\n",
    "write_table_from_query(project_id=project_id, dataset_id=dataset_id, table_id='us_places', query=us_places_table_creation_query, overwrite=True)"
   ]
  },
  {
   "cell_type": "code",
   "execution_count": 11,
   "id": "7583b05c",
   "metadata": {},
   "outputs": [
    {
     "name": "stderr",
     "output_type": "stream",
     "text": [
      "INFO:root:Connecting to BigQuery client for project 'kaggle-hackathon-project'...\n"
     ]
    },
    {
     "name": "stdout",
     "output_type": "stream",
     "text": [
      "Setting all column descriptions in a single statement...\n"
     ]
    },
    {
     "name": "stderr",
     "output_type": "stream",
     "text": [
      "INFO:root:Starting query job...\n",
      "INFO:root:Waiting for job 0007e8cf-20b9-4215-8c2e-822c9ff96ce6 to complete...\n",
      "INFO:root:Job 0007e8cf-20b9-4215-8c2e-822c9ff96ce6 completed. Fetching results as a DataFrame...\n",
      "INFO:root:Query returned 0 rows.\n"
     ]
    },
    {
     "name": "stdout",
     "output_type": "stream",
     "text": [
      "All column descriptions have been updated.\n"
     ]
    }
   ],
   "source": [
    "column_descriptions = {\n",
    "    \"id\": \"A unique identifier for the place, sourced from Overture Maps.\",\n",
    "    \"geometry\": \"The geographical coordinates (point or polygon) of the place's location.\",\n",
    "    \"name\": \"The primary, common name of the place.\",\n",
    "    \"category\": \"The primary business category of the place (e.g., 'restaurant', 'book_store').\",\n",
    "    \"brand\": \"The brand associated with the place, if applicable (e.g., 'Starbucks').\",\n",
    "    \"website\": \"A JSON string containing a list of official websites for the place.\",\n",
    "    \"socials\": \"A JSON string containing a list of social media profile links for the place.\",\n",
    "    \"address\": \"A JSON string containing the detailed primary address of the place.\",\n",
    "    \"number_of_places\": \"The total count of places within the same primary category across the US.\",\n",
    "    \"category_description\": \"An LLM-generated description of the business category from the perspective of a nearby cafe.\",\n",
    "    \"competition\": \"An LLM-generated boolean indicating if the category is considered direct competition for a cafe.\",\n",
    "    \"competition_magnitude\": \"An LLM-generated score (0-100) of how competitive the category is to a cafe.\",\n",
    "    \"opportunity\": \"An LLM-generated boolean indicating if the category represents a sales opportunity (e.g., foot traffic).\",\n",
    "    \"opportunity_magnitude\": \"An LLM-generated score (0-100) of the level of sales opportunity the category presents.\"\n",
    "}\n",
    "\n",
    "# Build the list of ALTER COLUMN clauses\n",
    "alter_clauses = []\n",
    "for column, description in column_descriptions.items():\n",
    "    # Escape double quotes in description\n",
    "    escaped_description = description.replace('\"', '\\\\\"')\n",
    "    alter_clauses.append(f'ALTER COLUMN {column} SET OPTIONS(description=\"{escaped_description}\")')\n",
    "\n",
    "# Join the clauses with a comma\n",
    "joined_clauses = \",\\n\".join(alter_clauses)\n",
    "\n",
    "# Construct the final single ALTER TABLE query\n",
    "alter_query = f\"\"\"\n",
    "ALTER TABLE `{project_id}.{dataset_id}.us_places`\n",
    "{joined_clauses}\n",
    "\"\"\"\n",
    "\n",
    "# Run the single query\n",
    "print(\"Setting all column descriptions in a single statement...\")\n",
    "run_query(project_id=project_id, query=alter_query)\n",
    "print(\"All column descriptions have been updated.\")\n"
   ]
  }
 ],
 "metadata": {
  "kernelspec": {
   "display_name": "Python 3",
   "language": "python",
   "name": "python3"
  },
  "language_info": {
   "codemirror_mode": {
    "name": "ipython",
    "version": 3
   },
   "file_extension": ".py",
   "mimetype": "text/x-python",
   "name": "python",
   "nbconvert_exporter": "python",
   "pygments_lexer": "ipython3",
   "version": "3.11.9"
  }
 },
 "nbformat": 4,
 "nbformat_minor": 5
}
